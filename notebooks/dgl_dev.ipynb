{
 "cells": [
  {
   "cell_type": "code",
   "execution_count": 1,
   "id": "continued-norman",
   "metadata": {},
   "outputs": [
    {
     "name": "stderr",
     "output_type": "stream",
     "text": [
      "Using backend: pytorch\n"
     ]
    }
   ],
   "source": [
    "import numpy as np\n",
    "import dgl\n",
    "import scanpy as sc\n",
    "import pandas as pd\n",
    "\n",
    "import torch \n",
    "import torch.nn as nn\n",
    "import torch.nn.functional as F"
   ]
  },
  {
   "cell_type": "code",
   "execution_count": 2,
   "id": "mediterranean-simpson",
   "metadata": {},
   "outputs": [],
   "source": [
    "adata = sc.read('/home/ngr4/project/sccovid/data/processed/hbec_scv2.h5ad')"
   ]
  },
  {
   "cell_type": "code",
   "execution_count": 20,
   "id": "cleared-yield",
   "metadata": {},
   "outputs": [],
   "source": [
    "# pre-processing\n",
    "adata_test = adata[adata.obs['split']=='test', :]\n",
    "sc.tl.pca(adata_test, n_comps=50)\n",
    "sc.external.pp.bbknn(adata_test, n_pcs=50, neighbors_within_batch=int(30/len(adata_test.obs['batch'].unique())))"
   ]
  },
  {
   "cell_type": "code",
   "execution_count": 53,
   "id": "published-silver",
   "metadata": {},
   "outputs": [],
   "source": [
    "g = dgl.from_scipy(adata_test.obsp['connectivities'])\n",
    "g.ndata['h'] = torch.tensor(adata_test.obsm['X_pca']) # test with just PCA-coords as node features "
   ]
  },
  {
   "cell_type": "code",
   "execution_count": 54,
   "id": "canadian-armstrong",
   "metadata": {},
   "outputs": [],
   "source": [
    "# add label\n",
    "label_encoder = {'mock':0, \n",
    "                 'bystander_1dpi':1, \n",
    "                 'infected_1dpi':2, \n",
    "                 'bystander_2dpi':3, \n",
    "                 'infected_2dpi':4, \n",
    "                 'bystander_3dpi':5, \n",
    "                 'infected_3dpi':6}\n",
    "g.ndata['label'] = torch.LongTensor(adata_test.obs['inf'].map(label_encoder).tolist())"
   ]
  },
  {
   "cell_type": "code",
   "execution_count": 43,
   "id": "unexpected-circuit",
   "metadata": {},
   "outputs": [],
   "source": [
    "import sys\n",
    "sys.path.append('/home/ngr4/project/dev/graphtransformer/scripts/')\n",
    "from layers import GraphTransformerLayer"
   ]
  },
  {
   "cell_type": "code",
   "execution_count": 55,
   "id": "western-jonathan",
   "metadata": {},
   "outputs": [],
   "source": [
    "graphtransformer = GraphTransformerLayer(50, 50, 1)"
   ]
  },
  {
   "cell_type": "code",
   "execution_count": 59,
   "id": "orange-connectivity",
   "metadata": {},
   "outputs": [
    {
     "data": {
      "text/plain": [
       "tensor([[-0.5042, -0.2999, -0.2316,  ..., -0.5872, -1.4215,  0.1535],\n",
       "        [-0.2955, -1.9272, -0.3162,  ..., -0.0180,  0.5649, -0.5777],\n",
       "        [-0.8107, -1.2720, -0.4066,  ...,  0.7604,  0.5405, -0.0444],\n",
       "        ...,\n",
       "        [ 1.2389, -1.0228, -1.1995,  ..., -0.1947,  0.4873,  0.5240],\n",
       "        [ 1.3466, -0.0599, -0.2185,  ..., -0.4266, -0.6014, -0.6844],\n",
       "        [ 0.7097,  0.4786, -0.0623,  ..., -1.7399, -0.2918, -0.6050]],\n",
       "       grad_fn=<NativeBatchNormBackward>)"
      ]
     },
     "execution_count": 59,
     "metadata": {},
     "output_type": "execute_result"
    }
   ],
   "source": [
    "graphtransformer(g, g.ndata['h'])"
   ]
  },
  {
   "cell_type": "code",
   "execution_count": null,
   "id": "absent-funds",
   "metadata": {},
   "outputs": [],
   "source": []
  }
 ],
 "metadata": {
  "kernelspec": {
   "display_name": "Python 3",
   "language": "python",
   "name": "python3"
  },
  "language_info": {
   "codemirror_mode": {
    "name": "ipython",
    "version": 3
   },
   "file_extension": ".py",
   "mimetype": "text/x-python",
   "name": "python",
   "nbconvert_exporter": "python",
   "pygments_lexer": "ipython3",
   "version": "3.8.8"
  }
 },
 "nbformat": 4,
 "nbformat_minor": 5
}
